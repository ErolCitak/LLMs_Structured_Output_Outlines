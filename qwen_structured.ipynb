{
 "cells": [
  {
   "cell_type": "code",
   "execution_count": 12,
   "id": "a949a361",
   "metadata": {},
   "outputs": [],
   "source": [
    "import os\n",
    "import re\n",
    "import torch\n",
    "import json\n",
    "from datetime import datetime\n",
    "from PyPDF2 import PdfReader\n",
    "\n",
    "from pydantic import BaseModel, Field, validator\n",
    "from langchain.prompts import PromptTemplate\n",
    "from langchain.output_parsers import PydanticOutputParser\n",
    "from transformers import AutoModelForCausalLM, AutoTokenizer"
   ]
  },
  {
   "cell_type": "code",
   "execution_count": 2,
   "id": "1fcae7d3",
   "metadata": {},
   "outputs": [
    {
     "data": {
      "application/vnd.jupyter.widget-view+json": {
       "model_id": "8b6d9b71be244a69ab1e4ac5b6381dd3",
       "version_major": 2,
       "version_minor": 0
      },
      "text/plain": [
       "Loading checkpoint shards:   0%|          | 0/2 [00:00<?, ?it/s]"
      ]
     },
     "metadata": {},
     "output_type": "display_data"
    }
   ],
   "source": [
    "model_id = \"Qwen/Qwen2.5-3B-Instruct\"\n",
    "tokenizer = AutoTokenizer.from_pretrained(model_id, trust_remote_code=True)\n",
    "model = AutoModelForCausalLM.from_pretrained(model_id, torch_dtype=torch.float16, device_map=\"auto\", trust_remote_code=True)"
   ]
  },
  {
   "cell_type": "code",
   "execution_count": 3,
   "id": "3ee51d6a",
   "metadata": {},
   "outputs": [],
   "source": [
    "def normalize_euro_format(amount: str) -> str:\n",
    "    amount = amount.strip()\n",
    "    amount = re.sub(r\"(?i)\\b(eur|euro|€)\\b\\s*\", \"\", amount)\n",
    "    if re.match(r\"^\\d{4,},\\d{2}$\", amount):\n",
    "        integer, decimal = amount.split(\",\")\n",
    "        integer = f\"{int(integer):,}\".replace(\",\", \".\")\n",
    "        amount = f\"{integer},{decimal}\"\n",
    "    return f\"{amount}\"\n",
    "\n",
    "def normalize_date(date_str: str) -> str:\n",
    "    # Try parsing flexible date formats into DD/MM/YYYY\n",
    "    try:\n",
    "        dt = datetime.strptime(date_str.strip(), \"%Y-%m-%d\")\n",
    "        return dt.strftime(\"%d/%m/%Y\")\n",
    "    except:\n",
    "        try:\n",
    "            dt = datetime.strptime(date_str.strip(), \"%d/%m/%Y\")\n",
    "            return dt.strftime(\"%d/%m/%Y\")\n",
    "        except:\n",
    "            return date_str  # fallback\n",
    "\n",
    "def normalize_time(time_str: str) -> str:\n",
    "    try:\n",
    "        dt = datetime.strptime(time_str.strip(), \"%H:%M\")\n",
    "        return dt.strftime(\"%H:%M:%S\")\n",
    "    except:\n",
    "        try:\n",
    "            dt = datetime.strptime(time_str.strip(), \"%H:%M:%S\")\n",
    "            return dt.strftime(\"%H:%M:%S\")\n",
    "        except:\n",
    "            return time_str"
   ]
  },
  {
   "cell_type": "code",
   "execution_count": 4,
   "id": "37ac43d1",
   "metadata": {},
   "outputs": [
    {
     "name": "stderr",
     "output_type": "stream",
     "text": [
      "C:\\Users\\citak\\AppData\\Local\\Temp\\ipykernel_20960\\4091590641.py:8: PydanticDeprecatedSince20: Pydantic V1 style `@validator` validators are deprecated. You should migrate to Pydantic V2 style `@field_validator` validators, see the migration guide for more details. Deprecated in Pydantic V2.0 to be removed in V3.0. See Pydantic V2 Migration Guide at https://errors.pydantic.dev/2.9/migration/\n",
      "  @validator(\"amount\")\n",
      "C:\\Users\\citak\\AppData\\Local\\Temp\\ipykernel_20960\\4091590641.py:11: PydanticDeprecatedSince20: Pydantic V1 style `@validator` validators are deprecated. You should migrate to Pydantic V2 style `@field_validator` validators, see the migration guide for more details. Deprecated in Pydantic V2.0 to be removed in V3.0. See Pydantic V2 Migration Guide at https://errors.pydantic.dev/2.9/migration/\n",
      "  @validator(\"date\")\n",
      "C:\\Users\\citak\\AppData\\Local\\Temp\\ipykernel_20960\\4091590641.py:14: PydanticDeprecatedSince20: Pydantic V1 style `@validator` validators are deprecated. You should migrate to Pydantic V2 style `@field_validator` validators, see the migration guide for more details. Deprecated in Pydantic V2.0 to be removed in V3.0. See Pydantic V2 Migration Guide at https://errors.pydantic.dev/2.9/migration/\n",
      "  @validator(\"time\")\n"
     ]
    }
   ],
   "source": [
    "class ExtractedInfo(BaseModel):\n",
    "    type: str = Field(description=\"Intent type, 'RefundRequest', 'Complaint', 'Change' \")\n",
    "    amount: str = Field(description=\"formatted as German-style Euro like '1.240,75 €' Do not use 'Euro' or 'EUR'. Use only the symbol € at the end. Always use dot for thousand separator and comma for decimals.\")\n",
    "    subject: str = Field(description=\"Product or issue subject\")\n",
    "    date: str = Field(description=\"Date in DD/MM/YYYY format\")\n",
    "    time: str = Field(default=\"\", description=\"Optional time in HH:MM:SS format\")\n",
    "\n",
    "    @validator(\"amount\")\n",
    "    def clean_amount(cls, v): return normalize_euro_format(v)\n",
    "\n",
    "    @validator(\"date\")\n",
    "    def clean_date(cls, v): return normalize_date(v)\n",
    "\n",
    "    @validator(\"time\")\n",
    "    def clean_time(cls, v): return normalize_time(v)\n",
    "\n",
    "parser = PydanticOutputParser(pydantic_object=ExtractedInfo)"
   ]
  },
  {
   "cell_type": "code",
   "execution_count": 5,
   "id": "22b6d84b",
   "metadata": {},
   "outputs": [],
   "source": [
    "prompt_template = PromptTemplate(\n",
    "    template=\"\"\"\n",
    "You are an intelligent assistant. Extract the following fields from the customer message below:\n",
    "\n",
    "{format_instructions}\n",
    "\n",
    "Message:\n",
    "\\\"\\\"\\\"{input}\\\"\\\"\\\"\n",
    "\"\"\",\n",
    "    input_variables=[\"input\"],\n",
    "    partial_variables={\"format_instructions\": parser.get_format_instructions()}\n",
    ")"
   ]
  },
  {
   "cell_type": "code",
   "execution_count": 6,
   "id": "1a08617d",
   "metadata": {},
   "outputs": [
    {
     "name": "stdout",
     "output_type": "stream",
     "text": [
      "\n",
      "You are an intelligent assistant. Extract the following fields from the customer message below:\n",
      "\n",
      "The output should be formatted as a JSON instance that conforms to the JSON schema below.\n",
      "\n",
      "As an example, for the schema {\"properties\": {\"foo\": {\"title\": \"Foo\", \"description\": \"a list of strings\", \"type\": \"array\", \"items\": {\"type\": \"string\"}}}, \"required\": [\"foo\"]}\n",
      "the object {\"foo\": [\"bar\", \"baz\"]} is a well-formatted instance of the schema. The object {\"properties\": {\"foo\": [\"bar\", \"baz\"]}} is not well-formatted.\n",
      "\n",
      "Here is the output schema:\n",
      "```\n",
      "{\"properties\": {\"type\": {\"description\": \"Intent type, 'RefundRequest', 'Complaint', 'Change' \", \"title\": \"Type\", \"type\": \"string\"}, \"amount\": {\"description\": \"formatted as German-style Euro like '1.240,75 €' Do not use 'Euro' or 'EUR'. Use only the symbol € at the end. Always use dot for thousand separator and comma for decimals.\", \"title\": \"Amount\", \"type\": \"string\"}, \"subject\": {\"description\": \"Product or issue subject\", \"title\": \"Subject\", \"type\": \"string\"}, \"date\": {\"description\": \"Date in DD/MM/YYYY format\", \"title\": \"Date\", \"type\": \"string\"}, \"time\": {\"default\": \"\", \"description\": \"Optional time in HH:MM:SS format\", \"title\": \"Time\", \"type\": \"string\"}}, \"required\": [\"type\", \"amount\", \"subject\", \"date\"]}\n",
      "```\n",
      "\n",
      "Message:\n",
      "\"\"\"Yesterday (18th Mayy of 2025), I bought a laptop from your store but it’s broken. I want a refund of Euro 3776,88. All these things started around around 2:39 pm\"\"\"\n",
      "\n"
     ]
    }
   ],
   "source": [
    "user_input = \"Yesterday (18th Mayy of 2025), I bought a laptop from your store but it’s broken. I want a refund of Euro 3776,88. All these things started around around 2:39 pm\"\n",
    "\n",
    "final_prompt = prompt_template.format(input=user_input)\n",
    "\n",
    "\n",
    "print(final_prompt)"
   ]
  },
  {
   "cell_type": "code",
   "execution_count": 7,
   "id": "f5871a3c",
   "metadata": {},
   "outputs": [
    {
     "name": "stderr",
     "output_type": "stream",
     "text": [
      "c:\\Users\\citak\\anaconda3\\envs\\pytorch\\lib\\site-packages\\transformers\\models\\qwen2\\modeling_qwen2.py:544: UserWarning: 1Torch was not compiled with flash attention. (Triggered internally at C:\\cb\\pytorch_1000000000000\\work\\aten\\src\\ATen\\native\\transformers\\cuda\\sdp_utils.cpp:455.)\n",
      "  attn_output = torch.nn.functional.scaled_dot_product_attention(\n"
     ]
    },
    {
     "name": "stdout",
     "output_type": "stream",
     "text": [
      "\n",
      "You are an intelligent assistant. Extract the following fields from the customer message below:\n",
      "\n",
      "The output should be formatted as a JSON instance that conforms to the JSON schema below.\n",
      "\n",
      "As an example, for the schema {\"properties\": {\"foo\": {\"title\": \"Foo\", \"description\": \"a list of strings\", \"type\": \"array\", \"items\": {\"type\": \"string\"}}}, \"required\": [\"foo\"]}\n",
      "the object {\"foo\": [\"bar\", \"baz\"]} is a well-formatted instance of the schema. The object {\"properties\": {\"foo\": [\"bar\", \"baz\"]}} is not well-formatted.\n",
      "\n",
      "Here is the output schema:\n",
      "```\n",
      "{\"properties\": {\"type\": {\"description\": \"Intent type, 'RefundRequest', 'Complaint', 'Change' \", \"title\": \"Type\", \"type\": \"string\"}, \"amount\": {\"description\": \"formatted as German-style Euro like '1.240,75 €' Do not use 'Euro' or 'EUR'. Use only the symbol € at the end. Always use dot for thousand separator and comma for decimals.\", \"title\": \"Amount\", \"type\": \"string\"}, \"subject\": {\"description\": \"Product or issue subject\", \"title\": \"Subject\", \"type\": \"string\"}, \"date\": {\"description\": \"Date in DD/MM/YYYY format\", \"title\": \"Date\", \"type\": \"string\"}, \"time\": {\"default\": \"\", \"description\": \"Optional time in HH:MM:SS format\", \"title\": \"Time\", \"type\": \"string\"}}, \"required\": [\"type\", \"amount\", \"subject\", \"date\"]}\n",
      "```\n",
      "\n",
      "Message:\n",
      "\"\"\"Yesterday (18th Mayy of 2025), I bought a laptop from your store but it’s broken. I want a refund of Euro 3776,88. All these things started around around 2:39 pm\"\"\"\n",
      "```json\n",
      "{\n",
      "  \"type\": \"RefundRequest\",\n",
      "  \"amount\": \"3776,88 €\",\n",
      "  \"subject\": \"laptop\",\n",
      "  \"date\": \"18/05/2025\"\n",
      "}\n",
      "``` ```json\n",
      "{\n",
      "  \"type\": \"RefundRequest\",\n",
      "  \"amount\": \"3776,88 €\",\n",
      "  \"subject\": \"laptop\",\n",
      "  \"date\": \"18/05/2025\",\n",
      "  \"time\": \"14:39\"\n",
      "}\n",
      "```\n"
     ]
    }
   ],
   "source": [
    "inputs = tokenizer(final_prompt, return_tensors=\"pt\").to(\"cuda\")\n",
    "outputs = model.generate(**inputs, max_new_tokens=128, do_sample=True, temperature=0.001, repetition_penalty=1.05)\n",
    "decoded = tokenizer.decode(outputs[0], skip_special_tokens=True)\n",
    "\n",
    "print(decoded)"
   ]
  },
  {
   "cell_type": "code",
   "execution_count": 8,
   "id": "85dcf050",
   "metadata": {},
   "outputs": [
    {
     "name": "stdout",
     "output_type": "stream",
     "text": [
      "\n",
      "🎯 Extracted JSON:\n",
      "{'type': 'RefundRequest', 'amount': '3776,88 €', 'subject': 'laptop', 'date': '18/05/2025', 'time': '14:39'}\n"
     ]
    }
   ],
   "source": [
    "matches = re.findall(r\"\\{[\\s\\S]*?\\}\", decoded)\n",
    "json_blob = matches[-1] if matches else \"{}\"\n",
    "structured_data = parser.parse(json_blob)\n",
    "\n",
    "print(\"\\n🎯 Extracted JSON:\")\n",
    "print(structured_data.dict())"
   ]
  },
  {
   "cell_type": "code",
   "execution_count": 9,
   "id": "152bc392",
   "metadata": {},
   "outputs": [],
   "source": [
    "### PDF Text Integration"
   ]
  },
  {
   "cell_type": "code",
   "execution_count": 13,
   "id": "6a256a7a",
   "metadata": {},
   "outputs": [],
   "source": [
    "def extract_text_from_pdf(pdf_path: str) -> str:\n",
    "    reader = PdfReader(pdf_path)\n",
    "    text = \"\\n\".join(page.extract_text() or \"\" for page in reader.pages)\n",
    "    return text.strip()"
   ]
  },
  {
   "cell_type": "code",
   "execution_count": 14,
   "id": "2625e6f2",
   "metadata": {},
   "outputs": [
    {
     "name": "stdout",
     "output_type": "stream",
     "text": [
      "Banca Italiana di Credito\n",
      " CD-IT-78901-2025\n",
      " \n",
      " CERTIFICATO DI DEPOSITO\n",
      " \n",
      "Data di emissione: 1 marzo 2025\n",
      "Numero di riferimento: CD-2025-78901\n",
      "Nome e Cognome: Marco Rossi\n",
      "Codice Fiscale: RSSMRC75P12H501T\n",
      "Indirizzo: Via Veneto 45, 00187 Roma, Italia\n",
      "Telefono: +39 345 678 9012\n",
      "Dettagli del Certificato\n",
      "Caratteristica\n",
      "Dettaglio\n",
      "Importo depositato\n",
      "€25.000,00\n",
      "Durata\n",
      "24 mesi\n",
      "Data di scadenza\n",
      "1 marzo 2027\n",
      "Tasso di interesse annuo\n",
      "2,75% (fisso)\n",
      "Periodicità interessi\n",
      "Semestrale\n",
      "Rendimento totale alla scadenza\n",
      "€1.375,00\n",
      "Informazioni sul certificato\n",
      "Gentile Sig. Rossi, con il presente documento confermiamo l'emissione di un Certificato di Deposito\n",
      "per un importo di €25.000,00 con scadenza il 1 marzo 2027.\n",
      "Piano di maturazione degli interessi\n",
      "Data\n",
      "Interessi (€)\n",
      "Ritenuta fiscale (€)\n",
      "Interessi netti (€)\n",
      "1 settembre 2025\n",
      "343,75\n",
      "89,38\n",
      "254,38\n",
      "1 marzo 2026\n",
      "343,75\n",
      "89,38\n",
      "254,38\n",
      "1 settembre 2026\n",
      "343,75\n",
      "89,38\n",
      "254,38\n",
      "1 marzo 2027\n",
      "343,75\n",
      "89,38\n",
      "254,38\n",
      "Totale\n",
      "1.375,00\n",
      "357,50\n",
      "1.017,50\n",
      "\n",
      "Condizioni\n",
      " Il certificato di deposito è nominativo e non trasferibile.\n",
      " In caso di rimborso anticipato è prevista una penale del 2% sull'importo depositato.\n",
      " Gli interessi sono soggetti alla ritenuta fiscale del 26% ai sensi del D.L. 66/2014.\n",
      " Alla scadenza, il capitale e gli interessi saranno accreditati sul conto corrente indicato.\n",
      "Banca Italiana di Credito S.p.A. - Sede Legale: Via del Corso 123, 00186 Roma - Capitale Sociale €500.000.000 i.v. -\n",
      " Iscrizione al Registro delle Imprese di Roma n. 876543210\n"
     ]
    }
   ],
   "source": [
    "pdf_path = \"documents/doc-02.pdf\"\n",
    "text_from_pdf = extract_text_from_pdf(pdf_path)\n",
    "\n",
    "print(text_from_pdf)"
   ]
  },
  {
   "cell_type": "code",
   "execution_count": 15,
   "id": "8de0b99f",
   "metadata": {},
   "outputs": [],
   "source": [
    "prompt = prompt_template.format(input=text_from_pdf)\n",
    "inputs = tokenizer(prompt, return_tensors=\"pt\").to(\"cuda\")\n",
    "outputs = model.generate(**inputs, max_new_tokens=512, do_sample=True, temperature=0.001, repetition_penalty=1.05)\n",
    "decoded = tokenizer.decode(outputs[0], skip_special_tokens=True)"
   ]
  },
  {
   "cell_type": "code",
   "execution_count": 16,
   "id": "75c59e6b",
   "metadata": {},
   "outputs": [
    {
     "name": "stdout",
     "output_type": "stream",
     "text": [
      "\n",
      "🎯 Extracted Structured Data:\n",
      "{'type': 'RefundRequest', 'amount': '€25.000,00', 'subject': 'Certificato di Deposito', 'date': '01/03/2025', 'time': ''}\n"
     ]
    }
   ],
   "source": [
    "matches = re.findall(r\"\\{[\\s\\S]*?\\}\", decoded)\n",
    "json_blob = matches[-1] if matches else \"{}\"\n",
    "parsed = parser.parse(json_blob)\n",
    "\n",
    "print(\"\\n🎯 Extracted Structured Data:\")\n",
    "print(parsed.dict())"
   ]
  },
  {
   "cell_type": "code",
   "execution_count": null,
   "id": "b1f193a9",
   "metadata": {},
   "outputs": [],
   "source": []
  }
 ],
 "metadata": {
  "kernelspec": {
   "display_name": "pytorch",
   "language": "python",
   "name": "python3"
  },
  "language_info": {
   "codemirror_mode": {
    "name": "ipython",
    "version": 3
   },
   "file_extension": ".py",
   "mimetype": "text/x-python",
   "name": "python",
   "nbconvert_exporter": "python",
   "pygments_lexer": "ipython3",
   "version": "3.8.19"
  }
 },
 "nbformat": 4,
 "nbformat_minor": 5
}
