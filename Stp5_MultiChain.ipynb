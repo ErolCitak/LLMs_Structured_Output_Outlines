{
 "cells": [
  {
   "cell_type": "code",
   "execution_count": 1,
   "id": "c2b97566",
   "metadata": {},
   "outputs": [
    {
     "name": "stderr",
     "output_type": "stream",
     "text": [
      "c:\\Users\\citak\\anaconda3\\envs\\pytorchv2\\lib\\site-packages\\tqdm\\auto.py:21: TqdmWarning: IProgress not found. Please update jupyter and ipywidgets. See https://ipywidgets.readthedocs.io/en/stable/user_install.html\n",
      "  from .autonotebook import tqdm as notebook_tqdm\n"
     ]
    }
   ],
   "source": [
    "import os\n",
    "import re\n",
    "import ast\n",
    "import json\n",
    "import torch\n",
    "from datetime import datetime\n",
    "from datetime import datetime\n",
    "from PyPDF2 import PdfReader\n",
    "\n",
    "from pydantic import BaseModel, Field, validator\n",
    "from langchain.prompts import PromptTemplate\n",
    "from langchain.prompts import ChatPromptTemplate\n",
    "from langchain.output_parsers import PydanticOutputParser\n",
    "from transformers import AutoModelForCausalLM, AutoTokenizer\n",
    "from langchain.schema.runnable import RunnableBranch, RunnableLambda, RunnableMap"
   ]
  },
  {
   "cell_type": "code",
   "execution_count": 2,
   "id": "b5f7b744",
   "metadata": {},
   "outputs": [
    {
     "name": "stdout",
     "output_type": "stream",
     "text": [
      "The output should be formatted as a JSON instance that conforms to the JSON schema below.\n",
      "\n",
      "As an example, for the schema {\"properties\": {\"foo\": {\"title\": \"Foo\", \"description\": \"a list of strings\", \"type\": \"array\", \"items\": {\"type\": \"string\"}}}, \"required\": [\"foo\"]}\n",
      "the object {\"foo\": [\"bar\", \"baz\"]} is a well-formatted instance of the schema. The object {\"properties\": {\"foo\": [\"bar\", \"baz\"]}} is not well-formatted.\n",
      "\n",
      "Here is the output schema:\n",
      "```\n",
      "{\"$defs\": {\"DocumentClasses\": {\"enum\": [\"investment\", \"personal_account\", \"garnishment\", \"credit\"], \"title\": \"DocumentClasses\", \"type\": \"string\"}, \"DocumentLanguage\": {\"enum\": [\"English\", \"French\", \"Italian\", \"Spanish\", \"German\"], \"title\": \"DocumentLanguage\", \"type\": \"string\"}}, \"properties\": {\"doc_class\": {\"$ref\": \"#/$defs/DocumentClasses\", \"description\": \"Class of the document. Possible values:\\n- investment: Investment-related documents (e.g., portfolio statements, fund details)\\n- personal_account: Personal account documents such as statements, account closures, or balance details\\n- garnishment: Legal notices regarding wage garnishment or account seizure\\n- credit: Credit or loan-related documents, including credit card statements and loan agreements\"}, \"language\": {\"$ref\": \"#/$defs/DocumentLanguage\", \"description\": \"Language of the document. Possible values: English, French, Italian, Spanish, German\"}}, \"required\": [\"doc_class\", \"language\"]}\n",
      "```\n"
     ]
    }
   ],
   "source": [
    "import utils_chat_template\n",
    "import utils_structured_output"
   ]
  },
  {
   "cell_type": "code",
   "execution_count": 3,
   "id": "285b9a2f",
   "metadata": {},
   "outputs": [
    {
     "name": "stdout",
     "output_type": "stream",
     "text": [
      "The output should be formatted as a JSON instance that conforms to the JSON schema below.\n",
      "\n",
      "As an example, for the schema {\"properties\": {\"foo\": {\"title\": \"Foo\", \"description\": \"a list of strings\", \"type\": \"array\", \"items\": {\"type\": \"string\"}}}, \"required\": [\"foo\"]}\n",
      "the object {\"foo\": [\"bar\", \"baz\"]} is a well-formatted instance of the schema. The object {\"properties\": {\"foo\": [\"bar\", \"baz\"]}} is not well-formatted.\n",
      "\n",
      "Here is the output schema:\n",
      "```\n",
      "{\"$defs\": {\"DocumentClasses\": {\"enum\": [\"investment\", \"personal_account\", \"garnishment\", \"credit\"], \"title\": \"DocumentClasses\", \"type\": \"string\"}, \"DocumentLanguage\": {\"enum\": [\"English\", \"French\", \"Italian\", \"Spanish\", \"German\"], \"title\": \"DocumentLanguage\", \"type\": \"string\"}}, \"properties\": {\"doc_class\": {\"$ref\": \"#/$defs/DocumentClasses\", \"description\": \"Class of the document. Possible values:\\n- investment: Investment-related documents (e.g., portfolio statements, fund details)\\n- personal_account: Personal account documents such as statements, account closures, or balance details\\n- garnishment: Legal notices regarding wage garnishment or account seizure\\n- credit: Credit or loan-related documents, including credit card statements and loan agreements\"}, \"language\": {\"$ref\": \"#/$defs/DocumentLanguage\", \"description\": \"Language of the document. Possible values: English, French, Italian, Spanish, German\"}}, \"required\": [\"doc_class\", \"language\"]}\n",
      "```\n"
     ]
    },
    {
     "data": {
      "text/plain": [
       "<module 'utils_structured_output' from 'c:\\\\Users\\\\citak\\\\Desktop\\\\LLMS\\\\StructuredOutput\\\\utils_structured_output.py'>"
      ]
     },
     "execution_count": 3,
     "metadata": {},
     "output_type": "execute_result"
    }
   ],
   "source": [
    "import importlib\n",
    "\n",
    "importlib.reload(utils_chat_template)\n",
    "importlib.reload(utils_structured_output)"
   ]
  },
  {
   "cell_type": "code",
   "execution_count": 4,
   "id": "33444687",
   "metadata": {},
   "outputs": [],
   "source": [
    "import outlines\n",
    "from enum import Enum\n",
    "from langchain_community.llms import Outlines\n",
    "\n",
    "from pydantic import BaseModel"
   ]
  },
  {
   "cell_type": "code",
   "execution_count": 5,
   "id": "d04502bb",
   "metadata": {},
   "outputs": [
    {
     "name": "stderr",
     "output_type": "stream",
     "text": [
      "Loading checkpoint shards: 100%|██████████| 2/2 [00:06<00:00,  3.15s/it]\n"
     ]
    }
   ],
   "source": [
    "model_id = \"Qwen/Qwen2.5-3B-Instruct\" # HuggingFaceTB/SmolLM2-135M-Instruct, HuggingFaceTB/SmolLM2-1.7B-Instruct, Qwen/Qwen2.5-3B-Instruct\n",
    "\n",
    "llm = outlines.from_transformers(\n",
    "    AutoModelForCausalLM.from_pretrained(model_id, device_map=\"cuda\", torch_dtype=torch.bfloat16),\n",
    "    AutoTokenizer.from_pretrained(model_id)\n",
    ")"
   ]
  },
  {
   "cell_type": "code",
   "execution_count": 6,
   "id": "2536c0ab",
   "metadata": {},
   "outputs": [],
   "source": [
    "classification_parser = PydanticOutputParser(pydantic_object=utils_structured_output.DocClassification)\n",
    "\n",
    "classification_chain = (\n",
    "    RunnableLambda(lambda x: utils_chat_template.create_classification_prompt(x[\"document_text\"]))\n",
    "    | RunnableLambda(lambda prompt: llm(prompt, max_new_tokens=256, temperature=0.1, do_sample=False))  # Pass generation params here\n",
    "    | RunnableLambda(lambda raw: (print(\"\\n[RAW LLM OUTPUT - Classification]:\", raw), raw)[1])\n",
    "    | classification_parser\n",
    ").with_config({\"verbose\": True})"
   ]
  },
  {
   "cell_type": "code",
   "execution_count": 7,
   "id": "965397ab",
   "metadata": {},
   "outputs": [
    {
     "name": "stderr",
     "output_type": "stream",
     "text": [
      "The following generation flags are not valid and may be ignored: ['temperature', 'top_p', 'top_k']. Set `TRANSFORMERS_VERBOSITY=info` for more details.\n"
     ]
    },
    {
     "name": "stdout",
     "output_type": "stream",
     "text": [
      "\n",
      "[RAW LLM OUTPUT - Classification]: \n",
      "\n",
      "\n",
      "Assistant: ```json\n",
      "{\n",
      "  \"doc_class\": \"garnishment\",\n",
      "  \"language\": \"German\"\n",
      "}\n",
      "```\n",
      "--------------------\n",
      "doc_class=<DocumentClasses.garnishment: 'garnishment'> language=<DocumentLanguage.german: 'German'>\n",
      "DocumentClasses.garnishment\n",
      "DocumentLanguage.german\n"
     ]
    }
   ],
   "source": [
    "sample_doc_name = \"doc-03.txt\"\n",
    "sample_doc_text_path = os.path.join(\"documents_banking_txt\", sample_doc_name)\n",
    "\n",
    "with open(sample_doc_text_path, \"r\") as document:\n",
    "    sample_doc_text = document.read()\n",
    "\n",
    "classification_chain_result = classification_chain.invoke({\"document_text\": sample_doc_text})\n",
    "\n",
    "print(\"-\"*20)\n",
    "print(classification_chain_result)\n",
    "print(classification_chain_result.doc_class)\n",
    "print(classification_chain_result.language)"
   ]
  },
  {
   "cell_type": "code",
   "execution_count": 8,
   "id": "fb213666",
   "metadata": {},
   "outputs": [],
   "source": [
    "def create_ner_chain(doc_class):\n",
    "    parser = PydanticOutputParser(pydantic_object=utils_chat_template.pydantic_dict[doc_class])\n",
    "\n",
    "    print(parser)\n",
    "\n",
    "    return (\n",
    "        RunnableLambda(lambda x: utils_chat_template.create_ner_prompt(\n",
    "            x[\"document_text\"], \n",
    "            x[\"classification\"].doc_class,   # Pydantic property access\n",
    "            x[\"classification\"].language     # Pydantic property access\n",
    "        ))\n",
    "        | RunnableLambda(lambda prompt: llm(prompt, max_new_tokens=256, temperature=0.1, do_sample=False))  # Pass generation params here\n",
    "        | RunnableLambda(lambda raw: (print(\"\\n[RAW LLM OUTPUT - NER]:\", raw), raw)[1])\n",
    "        | parser\n",
    "    ).with_config({\"verbose\": True})"
   ]
  },
  {
   "cell_type": "code",
   "execution_count": 9,
   "id": "a1a50c02",
   "metadata": {},
   "outputs": [
    {
     "name": "stdout",
     "output_type": "stream",
     "text": [
      "pydantic_object=<class 'utils_structured_output.Investment'>\n",
      "pydantic_object=<class 'utils_structured_output.PersonalAccount'>\n",
      "pydantic_object=<class 'utils_structured_output.Garnishment'>\n",
      "pydantic_object=<class 'utils_structured_output.Credit'>\n",
      "pydantic_object=<class 'utils_structured_output.PersonalAccount'>\n"
     ]
    }
   ],
   "source": [
    "ner_branch = RunnableBranch(\n",
    "    (lambda x: x[\"classification\"].doc_class == \"investment\", create_ner_chain(\"investment\")),\n",
    "    (lambda x: x[\"classification\"].doc_class == \"personal_account\", create_ner_chain(\"personal_account\")),\n",
    "    (lambda x: x[\"classification\"].doc_class == \"garnishment\", create_ner_chain(\"garnishment\")),\n",
    "    (lambda x: x[\"classification\"].doc_class == \"credit\", create_ner_chain(\"credit\")),\n",
    "    create_ner_chain(\"personal_account\")  # default branch (fallback)\n",
    ")\n",
    "\n",
    "def debug_step(x):\n",
    "    print(\"\\n=== DEBUG STEP ===\")\n",
    "    print(\"Keys in x:\", x.keys())\n",
    "    print(\"Document text:\", x['document_text'])\n",
    "    print(\"Classification type:\", type(x[\"classification\"]))\n",
    "    print(\"Classification doc_class:\", x[\"classification\"].doc_class)\n",
    "    print(\"Classification language:\", x[\"classification\"].language)\n",
    "    return x\n",
    "\n",
    "\n",
    "full_pipeline = (\n",
    "    RunnableMap({\n",
    "        \"document_text\": lambda x: x[\"document_text\"],\n",
    "        \"classification\": classification_chain\n",
    "    })\n",
    "    | RunnableLambda(debug_step)\n",
    "    | ner_branch\n",
    ")\n"
   ]
  },
  {
   "cell_type": "code",
   "execution_count": 10,
   "id": "e022dad1",
   "metadata": {},
   "outputs": [
    {
     "name": "stderr",
     "output_type": "stream",
     "text": [
      "The following generation flags are not valid and may be ignored: ['temperature', 'top_p', 'top_k']. Set `TRANSFORMERS_VERBOSITY=info` for more details.\n"
     ]
    },
    {
     "name": "stderr",
     "output_type": "stream",
     "text": [
      "The following generation flags are not valid and may be ignored: ['temperature', 'top_p', 'top_k']. Set `TRANSFORMERS_VERBOSITY=info` for more details.\n"
     ]
    },
    {
     "name": "stdout",
     "output_type": "stream",
     "text": [
      "\n",
      "[RAW LLM OUTPUT - Classification]: \n",
      "\n",
      "\n",
      "Assistant: ```json\n",
      "{\n",
      "  \"doc_class\": \"garnishment\",\n",
      "  \"language\": \"German\"\n",
      "}\n",
      "```\n",
      "\n",
      "=== DEBUG STEP ===\n",
      "Keys in x: dict_keys(['document_text', 'classification'])\n",
      "Document text: Gunar Radel\n",
      "Obergerichtsvolizieher\n",
      "Egbert-Schater-Allee 6/7 28447 Schwandort\n",
      "\n",
      "Zustellungsurkunde\n",
      "Empfanger:\n",
      "\n",
      "N26 Bank AG\n",
      "\n",
      "Voltairestrase 8\n",
      "\n",
      "10179 Berlin, Germany\n",
      "\n",
      "(Schuldn.: Frau Prof. Emin Schuler B.A., BenderstraSe 32, 72675 Lemgo)\n",
      "\n",
      "Pfandungs- und Uberweisungsbeschluss des Amstgerichts vom 16. February\n",
      "2025, Az. DF 9565/88\n",
      "\n",
      "rnebst einer beglaubigten Anschrift dieser Zustellungsurkunde habe ich heute im Auttrag\n",
      "des\n",
      "\n",
      "Gliubigers: Zimmer GbR, Holm-Margrat-Strabe 57, 06901 Artern\n",
      "\n",
      "vertreten durch: Rosemann Services, Kristiane-Girschner-Weg 827, 38389\n",
      "Tuttlingen, Az. 6622207/RX626716\n",
      "\n",
      "da ich in dem Geschattsraum der oben genannten Bank die Zustellung vorgenomm\n",
      "hhabe. Die Zustellung erfolgte gemab § 750 ZPO in Verbindung mit § 829 ZPO. Der\n",
      "‘Schuldner wurde Uber die Pfandung und Uberweisung des genannten Betrags\n",
      "\n",
      "Informiert. Eine Kopie des Ptandungs- und Uberweisungsbeschlusses wurde beigefdgt,\n",
      "\n",
      "‘Schwandort, den 08. April 2024 /05:09 Uhr\n",
      "\n",
      "\n",
      "Classification type: <class 'utils_structured_output.DocClassification'>\n",
      "Classification doc_class: DocumentClasses.garnishment\n",
      "Classification language: DocumentLanguage.german\n",
      "\n",
      "[RAW LLM OUTPUT - NER]: \n",
      "\n",
      "\n",
      "Assistant: ```json\n",
      "{\n",
      "  \"debtor_name\": \"Gunar Radel\",\n",
      "  \"creditor_name\": \"N26 Bank AG\",\n",
      "  \"effective_date\": \"08/04/2024\"\n",
      "}\n",
      "```\n",
      "debtor_name='Gunar Radel' creditor_name='N26 Bank AG' effective_date=datetime.datetime(2024, 4, 8, 0, 0)\n"
     ]
    }
   ],
   "source": [
    "sample_doc_text_path = os.path.join(\"documents_banking_txt\", sample_doc_name)\n",
    "\n",
    "with open(sample_doc_text_path, \"r\") as document:\n",
    "    sample_doc_text = document.read()\n",
    "\n",
    "result = full_pipeline.invoke({\"document_text\": sample_doc_text})\n",
    "\n",
    "print(result)"
   ]
  }
 ],
 "metadata": {
  "kernelspec": {
   "display_name": "pytorchv2",
   "language": "python",
   "name": "python3"
  },
  "language_info": {
   "codemirror_mode": {
    "name": "ipython",
    "version": 3
   },
   "file_extension": ".py",
   "mimetype": "text/x-python",
   "name": "python",
   "nbconvert_exporter": "python",
   "pygments_lexer": "ipython3",
   "version": "3.10.18"
  }
 },
 "nbformat": 4,
 "nbformat_minor": 5
}
