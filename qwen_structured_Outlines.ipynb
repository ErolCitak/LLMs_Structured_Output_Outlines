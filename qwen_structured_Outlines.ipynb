{
 "cells": [
  {
   "cell_type": "code",
   "execution_count": 1,
   "id": "a949a361",
   "metadata": {},
   "outputs": [
    {
     "name": "stderr",
     "output_type": "stream",
     "text": [
      "c:\\Users\\citak\\anaconda3\\envs\\pytorchv2\\lib\\site-packages\\tqdm\\auto.py:21: TqdmWarning: IProgress not found. Please update jupyter and ipywidgets. See https://ipywidgets.readthedocs.io/en/stable/user_install.html\n",
      "  from .autonotebook import tqdm as notebook_tqdm\n"
     ]
    }
   ],
   "source": [
    "import os\n",
    "import re\n",
    "import ast\n",
    "import torch\n",
    "import json\n",
    "from datetime import datetime\n",
    "from PyPDF2 import PdfReader\n",
    "\n",
    "from pydantic import BaseModel, Field, validator\n",
    "from langchain.prompts import PromptTemplate\n",
    "from langchain.prompts import ChatPromptTemplate\n",
    "from langchain.output_parsers import PydanticOutputParser\n",
    "from transformers import AutoModelForCausalLM, AutoTokenizer"
   ]
  },
  {
   "cell_type": "code",
   "execution_count": 2,
   "id": "a371c761",
   "metadata": {},
   "outputs": [],
   "source": [
    "import outlines\n",
    "from enum import Enum\n",
    "from langchain_community.llms import Outlines\n",
    "\n",
    "from pydantic import BaseModel"
   ]
  },
  {
   "cell_type": "code",
   "execution_count": 3,
   "id": "1fcae7d3",
   "metadata": {},
   "outputs": [
    {
     "name": "stderr",
     "output_type": "stream",
     "text": [
      "Loading checkpoint shards: 100%|██████████| 2/2 [00:07<00:00,  3.89s/it]\n"
     ]
    }
   ],
   "source": [
    "model_id = \"Qwen/Qwen2.5-3B-Instruct\" # HuggingFaceTB/SmolLM2-135M-Instruct, HuggingFaceTB/SmolLM2-1.7B-Instruct, Qwen/Qwen2.5-3B-Instruct\n",
    "\n",
    "llm = outlines.from_transformers(\n",
    "    AutoModelForCausalLM.from_pretrained(model_id, device_map=\"cuda\", torch_dtype=torch.bfloat16),\n",
    "    AutoTokenizer.from_pretrained(model_id)\n",
    ")"
   ]
  },
  {
   "cell_type": "code",
   "execution_count": 30,
   "id": "463f1f52",
   "metadata": {},
   "outputs": [],
   "source": [
    "class Country(str, Enum):\n",
    "    usa = \"USA\"\n",
    "    turkey = \"Turkey\"\n",
    "    germany = \"Germany\"\n",
    "    france = \"France\"\n",
    "\n",
    "\n",
    "class MovieReview(BaseModel):\n",
    "    title: str = Field(description=\"The name of the movie\", example=\"Inception\")\n",
    "    rating: int = Field(ge=1, le=10, description=\"Rating between 1 and 10\")\n",
    "    summary: str = Field(description=\"A short description of the movie plot\", max_length=200)\n",
    "    country: Country = Field(description=\"Country where the movie was produced\")\n",
    "    year: int = Field(ge=1900, le=2025, description=\"Release year of the movie\")"
   ]
  },
  {
   "cell_type": "code",
   "execution_count": 31,
   "id": "3dd6ea3f",
   "metadata": {},
   "outputs": [],
   "source": [
    "movie_name = \"Requiem For A Dream\"\n",
    "\n",
    "prompt = f\"\"\"\n",
    "<|system|>\n",
    "You are a helpful travel assistant.<|end|>\n",
    "<|user|>\n",
    "Write a short review for the movie '{movie_name}'<|end|>.\n",
    "<|assistant|>\n",
    "\"\"\""
   ]
  },
  {
   "cell_type": "code",
   "execution_count": 39,
   "id": "ea1a8d43",
   "metadata": {},
   "outputs": [
    {
     "name": "stdout",
     "output_type": "stream",
     "text": [
      "{\"title\":\"Requiem for a Dream: A Cinematic Tragedy\",\"rating\":5,\"summary\":\"Requiem for a Dream is a harrowing cinematic experience that vividly captures the devastating impact of drug addiction on the human psyche. Directed by Darren Aronofsky, this film is a stark portrayal\", \"country\":\"USA\",\"year\":2000}\n"
     ]
    }
   ],
   "source": [
    "short_review = llm(\n",
    "    prompt,\n",
    "    MovieReview,\n",
    "    max_new_tokens=256,\n",
    "    temperature=0.7,           # Controls randomness (lower = more deterministic)\n",
    "    repetition_penalty=1.0     # Penalizes repeated phrases/tokens\n",
    "    )\n",
    "\n",
    "print(short_review)"
   ]
  },
  {
   "cell_type": "code",
   "execution_count": 40,
   "id": "04619a6a",
   "metadata": {},
   "outputs": [
    {
     "name": "stdout",
     "output_type": "stream",
     "text": [
      "title='Requiem for a Dream: A Cinematic Tragedy' rating=5 summary='Requiem for a Dream is a harrowing cinematic experience that vividly captures the devastating impact of drug addiction on the human psyche. Directed by Darren Aronofsky, this film is a stark portrayal' country=<Country.usa: 'USA'> year=2000\n"
     ]
    }
   ],
   "source": [
    "# Use structured data to route the MovieReview\n",
    "def alert_manager(short_review):\n",
    "    print(\"Alert!\", short_review)\n",
    "\n",
    "\n",
    "short_review = MovieReview.model_validate_json(short_review)\n",
    "\n",
    "print(short_review)"
   ]
  },
  {
   "cell_type": "code",
   "execution_count": 41,
   "id": "d4005ba6",
   "metadata": {},
   "outputs": [
    {
     "data": {
      "text/plain": [
       "('Requiem for a Dream: A Cinematic Tragedy', 5, <Country.usa: 'USA'>, 2000)"
      ]
     },
     "execution_count": 41,
     "metadata": {},
     "output_type": "execute_result"
    }
   ],
   "source": [
    "short_review.title, short_review.rating, short_review.country, short_review.year"
   ]
  },
  {
   "cell_type": "code",
   "execution_count": 38,
   "id": "9ad9bbad",
   "metadata": {},
   "outputs": [
    {
     "data": {
      "text/plain": [
       "\"Requiem For A Dream is a harrowing and intense film that explores the dark side of addiction through the lives of four individuals. The movie's cinematography and soundtrack effectively convey the raw\""
      ]
     },
     "execution_count": 38,
     "metadata": {},
     "output_type": "execute_result"
    }
   ],
   "source": [
    "short_review.summary"
   ]
  },
  {
   "cell_type": "code",
   "execution_count": null,
   "id": "18fc3105",
   "metadata": {},
   "outputs": [],
   "source": []
  }
 ],
 "metadata": {
  "kernelspec": {
   "display_name": "pytorchv2",
   "language": "python",
   "name": "python3"
  },
  "language_info": {
   "codemirror_mode": {
    "name": "ipython",
    "version": 3
   },
   "file_extension": ".py",
   "mimetype": "text/x-python",
   "name": "python",
   "nbconvert_exporter": "python",
   "pygments_lexer": "ipython3",
   "version": "3.10.18"
  }
 },
 "nbformat": 4,
 "nbformat_minor": 5
}
