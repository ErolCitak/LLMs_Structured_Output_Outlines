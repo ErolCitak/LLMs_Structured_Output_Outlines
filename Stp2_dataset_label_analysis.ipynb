{
 "cells": [
  {
   "cell_type": "code",
   "execution_count": 2,
   "id": "e28a4f06",
   "metadata": {},
   "outputs": [],
   "source": [
    "import os\n",
    "import io\n",
    "import json\n",
    "import pandas as pd"
   ]
  },
  {
   "cell_type": "code",
   "execution_count": 7,
   "id": "2b94f5e7",
   "metadata": {},
   "outputs": [
    {
     "data": {
      "text/plain": [
       "{'general': ['document_id',\n",
       "  'document_type',\n",
       "  'document_date',\n",
       "  'customer_name',\n",
       "  'customer_id',\n",
       "  'institution_name',\n",
       "  'institution_address',\n",
       "  'language'],\n",
       " 'investment': ['portfolio_id',\n",
       "  'portfolio_value',\n",
       "  'asset_number',\n",
       "  'risk_profile'],\n",
       " 'personal_account': ['account_number',\n",
       "  'account_type',\n",
       "  'statement_period',\n",
       "  'opening_balance',\n",
       "  'closing_balance',\n",
       "  'available_balance',\n",
       "  'transaction_number'],\n",
       " 'garnishment': ['debtor_name',\n",
       "  'creditor_name',\n",
       "  'garnishment_amount',\n",
       "  'effective_date',\n",
       "  'duration',\n",
       "  'legal_authority'],\n",
       " 'credit': ['card_number',\n",
       "  'credit_limit',\n",
       "  'interest_rate',\n",
       "  'payment_due_date',\n",
       "  'statement_period',\n",
       "  'minimum_payment',\n",
       "  'previous_balance',\n",
       "  'new_balance']}"
      ]
     },
     "execution_count": 7,
     "metadata": {},
     "output_type": "execute_result"
    }
   ],
   "source": [
    "with open('extraction-fields.json', 'r') as f:\n",
    "    label_df = json.load(f)\n",
    "\n",
    "label_df"
   ]
  },
  {
   "cell_type": "code",
   "execution_count": 17,
   "id": "c658896b",
   "metadata": {},
   "outputs": [
    {
     "data": {
      "text/plain": [
       "['portfolio_id', 'portfolio_value', 'asset_number', 'risk_profile']"
      ]
     },
     "execution_count": 17,
     "metadata": {},
     "output_type": "execute_result"
    }
   ],
   "source": [
    "label_df['investment']"
   ]
  },
  {
   "cell_type": "code",
   "execution_count": 12,
   "id": "6608dc48",
   "metadata": {},
   "outputs": [
    {
     "data": {
      "text/plain": [
       "['investment', 'personal_account', 'garnishment', 'credit']"
      ]
     },
     "execution_count": 12,
     "metadata": {},
     "output_type": "execute_result"
    }
   ],
   "source": [
    "document_classes = list(label_df.keys())\n",
    "document_classes.remove('general')\n",
    "\n",
    "document_classes"
   ]
  },
  {
   "cell_type": "code",
   "execution_count": 18,
   "id": "c75f7131",
   "metadata": {},
   "outputs": [
    {
     "data": {
      "text/plain": [
       "{'investment': ['portfolio_id',\n",
       "  'portfolio_value',\n",
       "  'asset_number',\n",
       "  'risk_profile'],\n",
       " 'personal_account': ['account_number',\n",
       "  'account_type',\n",
       "  'statement_period',\n",
       "  'opening_balance',\n",
       "  'closing_balance',\n",
       "  'available_balance',\n",
       "  'transaction_number'],\n",
       " 'garnishment': ['debtor_name',\n",
       "  'creditor_name',\n",
       "  'garnishment_amount',\n",
       "  'effective_date',\n",
       "  'duration',\n",
       "  'legal_authority'],\n",
       " 'credit': ['card_number',\n",
       "  'credit_limit',\n",
       "  'interest_rate',\n",
       "  'payment_due_date',\n",
       "  'statement_period',\n",
       "  'minimum_payment',\n",
       "  'previous_balance',\n",
       "  'new_balance']}"
      ]
     },
     "execution_count": 18,
     "metadata": {},
     "output_type": "execute_result"
    }
   ],
   "source": [
    "per_class_fields = dict()\n",
    "\n",
    "for doc_class in document_classes:\n",
    "    specialized_fields = label_df[doc_class]\n",
    "\n",
    "    per_class_fields[doc_class] = specialized_fields\n",
    "\n",
    "per_class_fields"
   ]
  },
  {
   "cell_type": "code",
   "execution_count": 25,
   "id": "a6f8dc51",
   "metadata": {},
   "outputs": [],
   "source": [
    "with open(\"classes_fields.json\", \"w\") as f:\n",
    "    json.dump(per_class_fields, f, indent=4)"
   ]
  },
  {
   "cell_type": "code",
   "execution_count": null,
   "id": "12c2b2f7",
   "metadata": {},
   "outputs": [],
   "source": []
  }
 ],
 "metadata": {
  "kernelspec": {
   "display_name": "pytorchv2",
   "language": "python",
   "name": "python3"
  },
  "language_info": {
   "codemirror_mode": {
    "name": "ipython",
    "version": 3
   },
   "file_extension": ".py",
   "mimetype": "text/x-python",
   "name": "python",
   "nbconvert_exporter": "python",
   "pygments_lexer": "ipython3",
   "version": "3.10.18"
  }
 },
 "nbformat": 4,
 "nbformat_minor": 5
}
