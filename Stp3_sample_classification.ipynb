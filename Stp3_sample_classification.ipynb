{
 "cells": [
  {
   "cell_type": "code",
   "execution_count": 1,
   "id": "a9c21de3",
   "metadata": {},
   "outputs": [
    {
     "name": "stderr",
     "output_type": "stream",
     "text": [
      "c:\\Users\\citak\\anaconda3\\envs\\pytorchv2\\lib\\site-packages\\tqdm\\auto.py:21: TqdmWarning: IProgress not found. Please update jupyter and ipywidgets. See https://ipywidgets.readthedocs.io/en/stable/user_install.html\n",
      "  from .autonotebook import tqdm as notebook_tqdm\n"
     ]
    }
   ],
   "source": [
    "import os\n",
    "import re\n",
    "import ast\n",
    "import json\n",
    "import torch\n",
    "from datetime import datetime\n",
    "from datetime import datetime\n",
    "from PyPDF2 import PdfReader\n",
    "\n",
    "from pydantic import BaseModel, Field, validator\n",
    "from langchain.prompts import PromptTemplate\n",
    "from langchain.prompts import ChatPromptTemplate\n",
    "from langchain.output_parsers import PydanticOutputParser\n",
    "from transformers import AutoModelForCausalLM, AutoTokenizer"
   ]
  },
  {
   "cell_type": "code",
   "execution_count": 2,
   "id": "5d9ea92d",
   "metadata": {},
   "outputs": [],
   "source": [
    "import outlines\n",
    "from enum import Enum\n",
    "from langchain_community.llms import Outlines\n",
    "\n",
    "from pydantic import BaseModel"
   ]
  },
  {
   "cell_type": "code",
   "execution_count": 3,
   "id": "bd7f2a6f",
   "metadata": {},
   "outputs": [
    {
     "name": "stderr",
     "output_type": "stream",
     "text": [
      "Loading checkpoint shards: 100%|██████████| 2/2 [00:07<00:00,  3.88s/it]\n"
     ]
    }
   ],
   "source": [
    "model_id = \"Qwen/Qwen2.5-3B-Instruct\" # HuggingFaceTB/SmolLM2-135M-Instruct, HuggingFaceTB/SmolLM2-1.7B-Instruct, Qwen/Qwen2.5-3B-Instruct\n",
    "\n",
    "llm = outlines.from_transformers(\n",
    "    AutoModelForCausalLM.from_pretrained(model_id, device_map=\"cuda\", torch_dtype=torch.bfloat16),\n",
    "    AutoTokenizer.from_pretrained(model_id)\n",
    ")"
   ]
  },
  {
   "cell_type": "code",
   "execution_count": 4,
   "id": "c558ce24",
   "metadata": {},
   "outputs": [],
   "source": [
    "# Enum for document classes\n",
    "class DocumentClasses(str, Enum):\n",
    "    investment = \"investment\"\n",
    "    personal_account = \"personal_account\"\n",
    "    garnishment = \"garnishment\"\n",
    "    credit = \"credit\"\n",
    "\n",
    "# Enum for languages\n",
    "class DocumentLanguage(str, Enum):\n",
    "    english = \"English\"\n",
    "    french = \"French\"\n",
    "    italian = \"Italian\"\n",
    "    spanish = \"Spanish\"\n",
    "    german = \"German\"\n",
    "\n",
    "# Description map for document classes\n",
    "DOCUMENT_CLASS_DESCRIPTIONS = {\n",
    "    DocumentClasses.investment: \"Investment-related documents (e.g., portfolio statements, fund details)\",\n",
    "    DocumentClasses.personal_account: \"Personal account documents such as statements, account closures, or balance details\",\n",
    "    DocumentClasses.garnishment: \"Legal notices regarding wage garnishment or account seizure\",\n",
    "    DocumentClasses.credit: \"Credit or loan-related documents, including credit card statements and loan agreements\"\n",
    "}\n",
    "\n",
    "# Pydantic model for classification\n",
    "class DocClassification(BaseModel):\n",
    "    doc_class: DocumentClasses = Field(\n",
    "        description=\"Class of the document. Possible values:\\n\"\n",
    "                    f\"- {DocumentClasses.investment.value}: {DOCUMENT_CLASS_DESCRIPTIONS[DocumentClasses.investment]}\\n\"\n",
    "                    f\"- {DocumentClasses.personal_account.value}: {DOCUMENT_CLASS_DESCRIPTIONS[DocumentClasses.personal_account]}\\n\"\n",
    "                    f\"- {DocumentClasses.garnishment.value}: {DOCUMENT_CLASS_DESCRIPTIONS[DocumentClasses.garnishment]}\\n\"\n",
    "                    f\"- {DocumentClasses.credit.value}: {DOCUMENT_CLASS_DESCRIPTIONS[DocumentClasses.credit]}\"\n",
    "    )\n",
    "    language: DocumentLanguage = Field(\n",
    "        description=\"Language of the document. Possible values: English, French, Italian, Spanish, German\"\n",
    "    )"
   ]
  },
  {
   "cell_type": "code",
   "execution_count": 5,
   "id": "27856346",
   "metadata": {},
   "outputs": [
    {
     "name": "stdout",
     "output_type": "stream",
     "text": [
      "The output should be formatted as a JSON instance that conforms to the JSON schema below.\n",
      "\n",
      "As an example, for the schema {\"properties\": {\"foo\": {\"title\": \"Foo\", \"description\": \"a list of strings\", \"type\": \"array\", \"items\": {\"type\": \"string\"}}}, \"required\": [\"foo\"]}\n",
      "the object {\"foo\": [\"bar\", \"baz\"]} is a well-formatted instance of the schema. The object {\"properties\": {\"foo\": [\"bar\", \"baz\"]}} is not well-formatted.\n",
      "\n",
      "Here is the output schema:\n",
      "```\n",
      "{\"$defs\": {\"DocumentClasses\": {\"enum\": [\"investment\", \"personal_account\", \"garnishment\", \"credit\"], \"title\": \"DocumentClasses\", \"type\": \"string\"}, \"DocumentLanguage\": {\"enum\": [\"English\", \"French\", \"Italian\", \"Spanish\", \"German\"], \"title\": \"DocumentLanguage\", \"type\": \"string\"}}, \"properties\": {\"doc_class\": {\"$ref\": \"#/$defs/DocumentClasses\", \"description\": \"Class of the document. Possible values:\\n- investment: Investment-related documents (e.g., portfolio statements, fund details)\\n- personal_account: Personal account documents such as statements, account closures, or balance details\\n- garnishment: Legal notices regarding wage garnishment or account seizure\\n- credit: Credit or loan-related documents, including credit card statements and loan agreements\"}, \"language\": {\"$ref\": \"#/$defs/DocumentLanguage\", \"description\": \"Language of the document. Possible values: English, French, Italian, Spanish, German\"}}, \"required\": [\"doc_class\", \"language\"]}\n",
      "```\n"
     ]
    }
   ],
   "source": [
    "# Create Chat Template for Classification\n",
    "\n",
    "# Use your Pydantic model\n",
    "parser = PydanticOutputParser(pydantic_object=DocClassification)\n",
    "\n",
    "# Auto-generate format instructions for the LLM\n",
    "format_instructions = parser.get_format_instructions()\n",
    "\n",
    "print(format_instructions)\n",
    "\n",
    "def create_classification_prompt(document_text: str):\n",
    "    \"\"\"\n",
    "    Create a structured classification prompt for the LLM using the Pydantic schema.\n",
    "    \n",
    "    Args:\n",
    "        document_text (str): The raw text of the document to classify.\n",
    "    \n",
    "    Returns:\n",
    "        str: The final prompt ready to send to the model.\n",
    "    \"\"\"\n",
    "    system_msg = (\n",
    "        \"You are Qwen, created by Alibaba Cloud. \"\n",
    "        \"Your task is to classify the document according to the provided schema. \"\n",
    "        \"Return the result as valid JSON.\"\n",
    "    )\n",
    "\n",
    "    user_msg = (\n",
    "        f\"The document you need to analyze:\\n\\n{document_text}\\n\\n\"\n",
    "        f\"{format_instructions}\"\n",
    "    )\n",
    "\n",
    "    # Build the chat template with system + user messages\n",
    "    prompt_template = ChatPromptTemplate.from_messages([\n",
    "        (\"system\", system_msg),\n",
    "        (\"user\", \"{doc}\")\n",
    "    ])\n",
    "\n",
    "    return prompt_template.format(doc=user_msg)"
   ]
  },
  {
   "cell_type": "code",
   "execution_count": 6,
   "id": "ca9600dc",
   "metadata": {},
   "outputs": [
    {
     "name": "stdout",
     "output_type": "stream",
     "text": [
      "Banca Italiana di Credito\n",
      "CD-IT-78901-2025\n",
      "CERTIFICATO DI DEPOSITO\n",
      "Data di emissione: 1 marzo 2025\n",
      "Numero di riferimento: CD-2025-78901\n",
      "Nome e Cognome: Marco Rossi\n",
      "Codice Fiscale: RSSMRC75P12H501T\n",
      "Indirizzo: Via Veneto 45, 00187 Roma, Italia\n",
      "Telefono: +39 345 678 9012\n",
      "Dettagli del Certificato\n",
      "Caratteristica\n",
      "Dettaglio\n",
      "Importo depositato\n",
      "€25.000,00\n",
      "Durata\n",
      "24 mesi\n",
      "Data di scadenza\n",
      "1 marzo 2027\n",
      "Tasso di interesse annuo\n",
      "2,75% (fisso)\n",
      "Periodicità interessi\n",
      "Semestrale\n",
      "Rendimento totale alla scadenza\n",
      "€1.375,00\n",
      "Informazioni sul certificato\n",
      "Gentile Sig. Rossi, con il presente documento confermiamo l'emissione di un Certificato di Deposito\n",
      "per un importo di €25.000,00 con scadenza il 1 marzo 2027.\n",
      "Piano di maturazione degli interessi\n",
      "Data\n",
      "Interessi (€)\n",
      "Ritenuta fiscale (€)\n",
      "Interessi netti (€)\n",
      "1 settembre 2025\n",
      "343,75\n",
      "89,38\n",
      "254,38\n",
      "1 marzo 2026\n",
      "343,75\n",
      "89,38\n",
      "254,38\n",
      "1 settembre 2026\n",
      "343,75\n",
      "89,38\n",
      "254,38\n",
      "1 marzo 2027\n",
      "343,75\n",
      "89,38\n",
      "254,38\n",
      "Totale\n",
      "1.375,00\n",
      "357,50\n",
      "1.017,50\n",
      "Condizioni\n",
      "• Il certificato di deposito è nominativo e non trasferibile.\n",
      "• In caso di rimborso anticipato è prevista una penale del 2% sull'importo depositato.\n",
      "• Gli interessi sono soggetti alla ritenuta fiscale del 26% ai sensi del D.L. 66/2014.\n",
      "• Alla scadenza, il capitale e gli interessi saranno accreditati sul conto corrente indicato.\n",
      "Banca Italiana di Credito S.p.A. - Sede Legale: Via del Corso 123, 00186 Roma - Capitale Sociale €500.000.000 i.v. -\n",
      "Iscrizione al Registro delle Imprese di Roma n. 876543210\n",
      "\n"
     ]
    }
   ],
   "source": [
    "sample_doc_name = \"doc-02.txt\"\n",
    "sample_doc_text_path = os.path.join(\"documents_banking_txt\", sample_doc_name)\n",
    "\n",
    "with open(sample_doc_text_path, \"r\") as document:\n",
    "    sample_doc_text = document.read()\n",
    "\n",
    "print(sample_doc_text)"
   ]
  },
  {
   "cell_type": "code",
   "execution_count": 7,
   "id": "502d5d3f",
   "metadata": {},
   "outputs": [
    {
     "name": "stdout",
     "output_type": "stream",
     "text": [
      "System: You are Qwen, created by Alibaba Cloud. Your task is to classify the document according to the provided schema. Return the result as valid JSON.\n",
      "Human: The document you need to analyze:\n",
      "\n",
      "Banca Italiana di Credito\n",
      "CD-IT-78901-2025\n",
      "CERTIFICATO DI DEPOSITO\n",
      "Data di emissione: 1 marzo 2025\n",
      "Numero di riferimento: CD-2025-78901\n",
      "Nome e Cognome: Marco Rossi\n",
      "Codice Fiscale: RSSMRC75P12H501T\n",
      "Indirizzo: Via Veneto 45, 00187 Roma, Italia\n",
      "Telefono: +39 345 678 9012\n",
      "Dettagli del Certificato\n",
      "Caratteristica\n",
      "Dettaglio\n",
      "Importo depositato\n",
      "€25.000,00\n",
      "Durata\n",
      "24 mesi\n",
      "Data di scadenza\n",
      "1 marzo 2027\n",
      "Tasso di interesse annuo\n",
      "2,75% (fisso)\n",
      "Periodicità interessi\n",
      "Semestrale\n",
      "Rendimento totale alla scadenza\n",
      "€1.375,00\n",
      "Informazioni sul certificato\n",
      "Gentile Sig. Rossi, con il presente documento confermiamo l'emissione di un Certificato di Deposito\n",
      "per un importo di €25.000,00 con scadenza il 1 marzo 2027.\n",
      "Piano di maturazione degli interessi\n",
      "Data\n",
      "Interessi (€)\n",
      "Ritenuta fiscale (€)\n",
      "Interessi netti (€)\n",
      "1 settembre 2025\n",
      "343,75\n",
      "89,38\n",
      "254,38\n",
      "1 marzo 2026\n",
      "343,75\n",
      "89,38\n",
      "254,38\n",
      "1 settembre 2026\n",
      "343,75\n",
      "89,38\n",
      "254,38\n",
      "1 marzo 2027\n",
      "343,75\n",
      "89,38\n",
      "254,38\n",
      "Totale\n",
      "1.375,00\n",
      "357,50\n",
      "1.017,50\n",
      "Condizioni\n",
      "• Il certificato di deposito è nominativo e non trasferibile.\n",
      "• In caso di rimborso anticipato è prevista una penale del 2% sull'importo depositato.\n",
      "• Gli interessi sono soggetti alla ritenuta fiscale del 26% ai sensi del D.L. 66/2014.\n",
      "• Alla scadenza, il capitale e gli interessi saranno accreditati sul conto corrente indicato.\n",
      "Banca Italiana di Credito S.p.A. - Sede Legale: Via del Corso 123, 00186 Roma - Capitale Sociale €500.000.000 i.v. -\n",
      "Iscrizione al Registro delle Imprese di Roma n. 876543210\n",
      "\n",
      "\n",
      "The output should be formatted as a JSON instance that conforms to the JSON schema below.\n",
      "\n",
      "As an example, for the schema {\"properties\": {\"foo\": {\"title\": \"Foo\", \"description\": \"a list of strings\", \"type\": \"array\", \"items\": {\"type\": \"string\"}}}, \"required\": [\"foo\"]}\n",
      "the object {\"foo\": [\"bar\", \"baz\"]} is a well-formatted instance of the schema. The object {\"properties\": {\"foo\": [\"bar\", \"baz\"]}} is not well-formatted.\n",
      "\n",
      "Here is the output schema:\n",
      "```\n",
      "{\"$defs\": {\"DocumentClasses\": {\"enum\": [\"investment\", \"personal_account\", \"garnishment\", \"credit\"], \"title\": \"DocumentClasses\", \"type\": \"string\"}, \"DocumentLanguage\": {\"enum\": [\"English\", \"French\", \"Italian\", \"Spanish\", \"German\"], \"title\": \"DocumentLanguage\", \"type\": \"string\"}}, \"properties\": {\"doc_class\": {\"$ref\": \"#/$defs/DocumentClasses\", \"description\": \"Class of the document. Possible values:\\n- investment: Investment-related documents (e.g., portfolio statements, fund details)\\n- personal_account: Personal account documents such as statements, account closures, or balance details\\n- garnishment: Legal notices regarding wage garnishment or account seizure\\n- credit: Credit or loan-related documents, including credit card statements and loan agreements\"}, \"language\": {\"$ref\": \"#/$defs/DocumentLanguage\", \"description\": \"Language of the document. Possible values: English, French, Italian, Spanish, German\"}}, \"required\": [\"doc_class\", \"language\"]}\n",
      "```\n"
     ]
    }
   ],
   "source": [
    "classification_prompt = create_classification_prompt(sample_doc_text)\n",
    "\n",
    "print(classification_prompt)"
   ]
  },
  {
   "cell_type": "code",
   "execution_count": 8,
   "id": "ecfa00d2",
   "metadata": {},
   "outputs": [
    {
     "name": "stdout",
     "output_type": "stream",
     "text": [
      "{ \"doc_class\": \"investment\", \"language\": \"Italian\" }\n",
      "doc_class=<DocumentClasses.investment: 'investment'> language=<DocumentLanguage.italian: 'Italian'>\n"
     ]
    }
   ],
   "source": [
    "pred_doc_class = llm(\n",
    "    classification_prompt,\n",
    "    DocClassification,\n",
    "    max_new_tokens=128,\n",
    "    temperature=0.7,\n",
    "    repetition_penalty=1.0\n",
    "    )\n",
    "\n",
    "print(pred_doc_class)\n",
    "\n",
    "pred_doc_class = DocClassification.model_validate_json(pred_doc_class)\n",
    "\n",
    "print(pred_doc_class)"
   ]
  }
 ],
 "metadata": {
  "kernelspec": {
   "display_name": "pytorchv2",
   "language": "python",
   "name": "python3"
  },
  "language_info": {
   "codemirror_mode": {
    "name": "ipython",
    "version": 3
   },
   "file_extension": ".py",
   "mimetype": "text/x-python",
   "name": "python",
   "nbconvert_exporter": "python",
   "pygments_lexer": "ipython3",
   "version": "3.10.18"
  }
 },
 "nbformat": 4,
 "nbformat_minor": 5
}
